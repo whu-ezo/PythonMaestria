{
 "cells": [
  {
   "cell_type": "code",
   "execution_count": 1,
   "id": "a6d23c6c",
   "metadata": {},
   "outputs": [],
   "source": [
    "def obtener_clientes(nombre_tienda):\n",
    "    \"\"\"\n",
    "    Solicita al usuario los nombres de los clientes de una tienda y los devuelve en un conjunto.\n",
    "\n",
    "    Returns:\n",
    "        set: Un conjunto de nombres de clientes únicos.\n",
    "    \"\"\"\n",
    "    clientes_str = input(f\"Ingrese los nombres de los clientes de la {nombre_tienda} separados por comas: \")\n",
    "    clientes_lista = [cliente.strip() for cliente in clientes_str.split(',')]\n",
    "    clientes_set = set(clientes_lista)  # Usamos un conjunto para asegurar unicidad\n",
    "    return clientes_set\n"
   ]
  },
  {
   "cell_type": "code",
   "execution_count": 2,
   "id": "ff7e1c51",
   "metadata": {},
   "outputs": [],
   "source": [
    "# Declaración de variables para los nombres de las tiendas\n",
    "nombre_tienda_a = \"Tienda 1\"\n",
    "nombre_tienda_b = \"Tienda 2\""
   ]
  },
  {
   "cell_type": "code",
   "execution_count": 3,
   "id": "5d91175f",
   "metadata": {},
   "outputs": [
    {
     "name": "stdout",
     "output_type": "stream",
     "text": [
      "Clientes de Tienda 1: {'Ester', 'Madeline', 'Ana', 'Allison', 'Andres'}\n",
      "Clientes de Tienda 2: {'Eduardo', 'Allison', 'William', 'Ana'}\n"
     ]
    }
   ],
   "source": [
    "# Entrada de datos mediante la función input() para obtener los conjuntos\n",
    "tienda_1 = obtener_clientes(nombre_tienda_a)\n",
    "print(f\"Clientes de {nombre_tienda_a}: {tienda_1}\")\n",
    "tienda_2 = obtener_clientes(nombre_tienda_b)\n",
    "print(f\"Clientes de {nombre_tienda_b}: {tienda_2}\")"
   ]
  },
  {
   "cell_type": "code",
   "execution_count": 4,
   "id": "20772e78",
   "metadata": {},
   "outputs": [
    {
     "name": "stdout",
     "output_type": "stream",
     "text": [
      "\n",
      "Clientes comunes en ambas tiendas: {'Allison', 'Ana'}\n"
     ]
    }
   ],
   "source": [
    "# 1. Clientes comunes (intersección)\n",
    "comunes = tienda_1.intersection(tienda_2)\n",
    "print(\"\\nClientes comunes en ambas tiendas:\", comunes)"
   ]
  },
  {
   "cell_type": "code",
   "execution_count": 5,
   "id": "2c2626c3",
   "metadata": {},
   "outputs": [
    {
     "name": "stdout",
     "output_type": "stream",
     "text": [
      "\n",
      "Clientes exclusivos de la Tienda 1: {'Ester', 'Andres', 'Madeline'}\n",
      "\n",
      "Clientes exclusivos de la Tienda 2: {'Eduardo', 'William'}\n"
     ]
    }
   ],
   "source": [
    "# 2. Clientes exclusivos de cada tienda (diferencia)\n",
    "exclusivos_tienda_1 = tienda_1.difference(tienda_2)\n",
    "print(\"\\nClientes exclusivos de la Tienda 1:\", exclusivos_tienda_1)\n",
    "exclusivos_tienda_2 = tienda_2.difference(tienda_1)\n",
    "print(\"\\nClientes exclusivos de la Tienda 2:\", exclusivos_tienda_2)"
   ]
  },
  {
   "cell_type": "code",
   "execution_count": 6,
   "id": "e067b180",
   "metadata": {},
   "outputs": [
    {
     "name": "stdout",
     "output_type": "stream",
     "text": [
      "\n",
      "Total de clientes únicos entre ambas tiendas: {'Ester', 'Madeline', 'Ana', 'William', 'Eduardo', 'Allison', 'Andres'}\n"
     ]
    }
   ],
   "source": [
    "# 3. Total de clientes únicos (unión)\n",
    "total_unicos = tienda_1.union(tienda_2)\n",
    "print(\"\\nTotal de clientes únicos entre ambas tiendas:\", total_unicos)"
   ]
  }
 ],
 "metadata": {
  "kernelspec": {
   "display_name": "Python 3",
   "language": "python",
   "name": "python3"
  },
  "language_info": {
   "codemirror_mode": {
    "name": "ipython",
    "version": 3
   },
   "file_extension": ".py",
   "mimetype": "text/x-python",
   "name": "python",
   "nbconvert_exporter": "python",
   "pygments_lexer": "ipython3",
   "version": "3.13.2"
  }
 },
 "nbformat": 4,
 "nbformat_minor": 5
}
