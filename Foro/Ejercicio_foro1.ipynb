{
 "cells": [
  {
   "cell_type": "code",
   "execution_count": 1,
   "id": "3d68ae9b",
   "metadata": {},
   "outputs": [
    {
     "name": "stdout",
     "output_type": "stream",
     "text": [
      "Nombre: Camila!\n"
     ]
    }
   ],
   "source": [
    "# Solicitar el nombre del estudiante\n",
    "nombre_estudiante = input(\"Ingrese el nombre del estudiante: \")\n",
    "print(f\"Nombre: {nombre_estudiante}!\")\n"
   ]
  },
  {
   "cell_type": "code",
   "execution_count": 2,
   "id": "c569b34a",
   "metadata": {},
   "outputs": [],
   "source": [
    "# Función para solicitar una calificación y validar que sea un número dentro del rango [0, 5]\n",
    "def solicitar_calificacion(numero):\n",
    "    while True:\n",
    "        try:\n",
    "            calificacion_str = input(f\"Ingrese la calificación #{numero} (entre 0 y 5): \")\n",
    "            calificacion = float(calificacion_str)\n",
    "            if 0 <= calificacion <= 5:\n",
    "                return calificacion\n",
    "            else:\n",
    "                print(\"Error: La calificación debe estar entre 0 y 5.\")\n",
    "        except ValueError:\n",
    "            print(\"Error: Por favor, ingrese un valor numérico para la calificación.\")\n"
   ]
  },
  {
   "cell_type": "code",
   "execution_count": 3,
   "id": "152f622e",
   "metadata": {},
   "outputs": [
    {
     "name": "stdout",
     "output_type": "stream",
     "text": [
      "Calificación 1: 4.0\n"
     ]
    }
   ],
   "source": [
    "# Solicitar las tres calificaciones utilizando la función con validación de rango\n",
    "calificacion1 = solicitar_calificacion(1)\n",
    "print(f\"Calificación 1: {calificacion1}\")"
   ]
  },
  {
   "cell_type": "code",
   "execution_count": 4,
   "id": "3e28cf96",
   "metadata": {},
   "outputs": [
    {
     "name": "stdout",
     "output_type": "stream",
     "text": [
      "Calificación 2: 3.0\n"
     ]
    }
   ],
   "source": [
    "calificacion2 = solicitar_calificacion(2)\n",
    "print(f\"Calificación 2: {calificacion2}\")"
   ]
  },
  {
   "cell_type": "code",
   "execution_count": 5,
   "id": "9c84b35a",
   "metadata": {},
   "outputs": [
    {
     "name": "stdout",
     "output_type": "stream",
     "text": [
      "Calificación 3: 5.0\n"
     ]
    }
   ],
   "source": [
    "calificacion3 = solicitar_calificacion(3)\n",
    "print(f\"Calificación 3: {calificacion3}\")"
   ]
  },
  {
   "cell_type": "code",
   "execution_count": 6,
   "id": "9c20cf73",
   "metadata": {},
   "outputs": [
    {
     "name": "stdout",
     "output_type": "stream",
     "text": [
      "\n",
      "--- Resultados del Desempeño ---\n",
      "Nombre del estudiante: Camila\n",
      "Promedio: 4.00\n",
      "Clasificación: Bueno\n"
     ]
    }
   ],
   "source": [
    "# Calcular el promedio\n",
    "promedio = (calificacion1 + calificacion2 + calificacion3) / 3\n",
    "\n",
    "# Clasificar el desempeño según el promedio\n",
    "if promedio >= 4.5:\n",
    "    clasificacion = \"Excelente\"\n",
    "elif promedio >= 3.5:\n",
    "    clasificacion = \"Bueno\"\n",
    "elif promedio >= 3.0:\n",
    "    clasificacion = \"Regular\"\n",
    "else:\n",
    "    clasificacion = \"Insuficiente\"\n",
    "\n",
    "# Mostrar el nombre, el promedio y la clasificación\n",
    "print(\"\\n--- Resultados del Desempeño ---\")\n",
    "print(f\"Nombre del estudiante: {nombre_estudiante}\")\n",
    "print(f\"Promedio: {promedio:.2f}\") # Formatear el promedio a dos decimales\n",
    "print(f\"Clasificación: {clasificacion}\")"
   ]
  }
 ],
 "metadata": {
  "kernelspec": {
   "display_name": "Python 3",
   "language": "python",
   "name": "python3"
  },
  "language_info": {
   "codemirror_mode": {
    "name": "ipython",
    "version": 3
   },
   "file_extension": ".py",
   "mimetype": "text/x-python",
   "name": "python",
   "nbconvert_exporter": "python",
   "pygments_lexer": "ipython3",
   "version": "3.13.2"
  }
 },
 "nbformat": 4,
 "nbformat_minor": 5
}
